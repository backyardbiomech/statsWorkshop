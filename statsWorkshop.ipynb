{
 "cells": [
  {
   "cell_type": "code",
   "execution_count": 148,
   "metadata": {},
   "outputs": [],
   "source": [
    "import warnings\n",
    "warnings.simplefilter(action='ignore', category=FutureWarning)\n",
    "import pandas as pd\n",
    "import math\n",
    "%matplotlib inline\n",
    "import statsmodels.api as sm\n",
    "import statsmodels.formula.api as smf\n",
    "import seaborn as sns\n",
    "import matplotlib.pyplot as plt"
   ]
  },
  {
   "cell_type": "markdown",
   "metadata": {},
   "source": [
    "# Basic statistical analyses\n",
    "Modified from Strode PS, Brokaw A (2015). Using BioInteractive resources to teach mathematics and statistics in biology. HHMI, http://www.hhmi.org/biointeractive/teacher-guide-math-and-statistics\n",
    "\n",
    "## Readings\n",
    "McMillan Chapter 2\n",
    "\n",
    "## Objectives\n",
    "1. Summarize the location and spread of data using appropriate descriptive statistics.\n",
    "2. Use the 95% confidence interval (CI) to test a hypothesis about differences in the mean response of treatment levels.\n",
    "\n",
    "#### Background and Activity\n",
    "In most biological experiments, scientists collect data on **samples** (subsets) of **populations**, and use these data to draw conclusions and test hypotheses about the entire population. \n",
    "\n",
    "For example, you may ask the following question : How does light intensity affect plant growth? You hypothesize that since light drives photosynthesis, light should increase plant growth, and predict that *Wisconsin Fast Plants* grown closer to a grow bulb will be taller than plants placed further away from the bulb. \n",
    "\n",
    "You test your hypothesis by growing seedlings at two different light levels, with eight replicates per light level. After three weeks your plants look like this:\n",
    "\n",
    "![](plants.jpg)\n",
    "\n",
    "#### Population vs Sample\n",
    "Notice that your hypothesis addresses \"plants\". Not just the seeds you planted, not even just the species you're working with, but \"plants\". That idea of *all plants*, or maybe the idea of *all plants of this species* is referred to as the **population**. \n",
    "\n",
    "You did not test the population. That would have meant that you grew every single seed of this species, or all seeds of all species, under these conditions. Obviously, that would be impossible. Instead, you tested a **sample**. \n",
    "\n",
    "Now we have a conundrum. You tested a sample, but want to say something about the population. **This** is where statistics can help.\n",
    "\n",
    "#### How do you interpret your results?  \n",
    "\n",
    "Let's say you measure you plants and get the data below."
   ]
  },
  {
   "cell_type": "code",
   "execution_count": 5,
   "metadata": {},
   "outputs": [
    {
     "data": {
      "text/html": [
       "<div>\n",
       "<style scoped>\n",
       "    .dataframe tbody tr th:only-of-type {\n",
       "        vertical-align: middle;\n",
       "    }\n",
       "\n",
       "    .dataframe tbody tr th {\n",
       "        vertical-align: top;\n",
       "    }\n",
       "\n",
       "    .dataframe thead th {\n",
       "        text-align: right;\n",
       "    }\n",
       "</style>\n",
       "<table border=\"1\" class=\"dataframe\">\n",
       "  <thead>\n",
       "    <tr style=\"text-align: right;\">\n",
       "      <th></th>\n",
       "      <th>treatment</th>\n",
       "      <th>replicate</th>\n",
       "      <th>height</th>\n",
       "    </tr>\n",
       "  </thead>\n",
       "  <tbody>\n",
       "    <tr>\n",
       "      <th>0</th>\n",
       "      <td>low</td>\n",
       "      <td>A</td>\n",
       "      <td>4.1</td>\n",
       "    </tr>\n",
       "    <tr>\n",
       "      <th>1</th>\n",
       "      <td>low</td>\n",
       "      <td>B</td>\n",
       "      <td>3.2</td>\n",
       "    </tr>\n",
       "    <tr>\n",
       "      <th>2</th>\n",
       "      <td>low</td>\n",
       "      <td>C</td>\n",
       "      <td>3.8</td>\n",
       "    </tr>\n",
       "    <tr>\n",
       "      <th>3</th>\n",
       "      <td>low</td>\n",
       "      <td>D</td>\n",
       "      <td>3.7</td>\n",
       "    </tr>\n",
       "    <tr>\n",
       "      <th>4</th>\n",
       "      <td>low</td>\n",
       "      <td>E</td>\n",
       "      <td>4.6</td>\n",
       "    </tr>\n",
       "    <tr>\n",
       "      <th>5</th>\n",
       "      <td>low</td>\n",
       "      <td>F</td>\n",
       "      <td>3.9</td>\n",
       "    </tr>\n",
       "    <tr>\n",
       "      <th>6</th>\n",
       "      <td>low</td>\n",
       "      <td>G</td>\n",
       "      <td>3.9</td>\n",
       "    </tr>\n",
       "    <tr>\n",
       "      <th>7</th>\n",
       "      <td>low</td>\n",
       "      <td>H</td>\n",
       "      <td>4.7</td>\n",
       "    </tr>\n",
       "    <tr>\n",
       "      <th>8</th>\n",
       "      <td>high</td>\n",
       "      <td>A</td>\n",
       "      <td>3.9</td>\n",
       "    </tr>\n",
       "    <tr>\n",
       "      <th>9</th>\n",
       "      <td>high</td>\n",
       "      <td>B</td>\n",
       "      <td>4.7</td>\n",
       "    </tr>\n",
       "    <tr>\n",
       "      <th>10</th>\n",
       "      <td>high</td>\n",
       "      <td>C</td>\n",
       "      <td>5.1</td>\n",
       "    </tr>\n",
       "    <tr>\n",
       "      <th>11</th>\n",
       "      <td>high</td>\n",
       "      <td>D</td>\n",
       "      <td>4.8</td>\n",
       "    </tr>\n",
       "    <tr>\n",
       "      <th>12</th>\n",
       "      <td>high</td>\n",
       "      <td>E</td>\n",
       "      <td>3.7</td>\n",
       "    </tr>\n",
       "    <tr>\n",
       "      <th>13</th>\n",
       "      <td>high</td>\n",
       "      <td>F</td>\n",
       "      <td>4.6</td>\n",
       "    </tr>\n",
       "    <tr>\n",
       "      <th>14</th>\n",
       "      <td>high</td>\n",
       "      <td>G</td>\n",
       "      <td>5.1</td>\n",
       "    </tr>\n",
       "    <tr>\n",
       "      <th>15</th>\n",
       "      <td>high</td>\n",
       "      <td>H</td>\n",
       "      <td>4.9</td>\n",
       "    </tr>\n",
       "  </tbody>\n",
       "</table>\n",
       "</div>"
      ],
      "text/plain": [
       "   treatment replicate  height\n",
       "0        low         A     4.1\n",
       "1        low         B     3.2\n",
       "2        low         C     3.8\n",
       "3        low         D     3.7\n",
       "4        low         E     4.6\n",
       "5        low         F     3.9\n",
       "6        low         G     3.9\n",
       "7        low         H     4.7\n",
       "8       high         A     3.9\n",
       "9       high         B     4.7\n",
       "10      high         C     5.1\n",
       "11      high         D     4.8\n",
       "12      high         E     3.7\n",
       "13      high         F     4.6\n",
       "14      high         G     5.1\n",
       "15      high         H     4.9"
      ]
     },
     "execution_count": 5,
     "metadata": {},
     "output_type": "execute_result"
    }
   ],
   "source": [
    "mydata = pd.read_csv('sample_stats.csv')\n",
    "mydata"
   ]
  },
  {
   "cell_type": "markdown",
   "metadata": {},
   "source": [
    "How can you use these data to evaluate your hypothesis? We start with **descriptive statistics** to compare the data.\n",
    "\n",
    "First, just look at the data and the pictures. What do you see? Is one treatment higher or lower? How do you know? How can you boil all of those numbers down to make the comparison easier? How can you test your prediction that the high light treatment would be taller than the low light treatment?\n",
    "\n",
    "Work in your group on your computers to do what you think is necessary to evaluate your hypothesis.  Are you examining the **sample** or the **population**?"
   ]
  },
  {
   "cell_type": "markdown",
   "metadata": {},
   "source": [
    "### Measures of average (central tendency):  \n",
    "You have eight replicates for each treatment. What would happen if you had 100 or 1,000 replicates each? What about if you tried growing **all** the plants (the *population*) at each treatment? The data above are just a *sample* of all the plants that have ever and will ever be grown in those conditions. We can assume, however, that they are somewhat representative of the population, and therefore the \"center\" of your samples will be close to the \"center\" or average of the population. So what is the center?\n",
    "\n",
    "The most common calculation of the center is the **mean**. Your hypothesis and question is about **all** the plants, so what we want to understand is the mean of the entire population, which is called $\\mu$.  But we didn't measure all the plants, just a sample, so we calculate our sample means as $\\bar{x}$:\n",
    "\n",
    "$$ \\bar{x} = \\frac{\\sum{x}}{N} $$  \n",
    "\n",
    "+ $\\sum{x}$ is \"the sum of all the values\"\n",
    "+ $N$ is the number of samples in the calculation.\n",
    "+ the mean is the sum of all of the values for that sample divided by the number of replicates\n",
    "\n",
    "**Calculate the mean for the whole group, and for each treatment.**"
   ]
  },
  {
   "cell_type": "code",
   "execution_count": 129,
   "metadata": {},
   "outputs": [
    {
     "name": "stdout",
     "output_type": "stream",
     "text": [
      "whole sample mean = 4.3\n",
      "low treatment mean = 4.0\n",
      "high treatment mean = 4.6\n"
     ]
    }
   ],
   "source": [
    "sample_mean = mydata['height'].mean()\n",
    "print('whole sample mean = {:.1f}'.format(sample_mean))\n",
    "\n",
    "#get just the low and high treatements\n",
    "lows = mydata.loc[mydata['treatment']=='low','height']\n",
    "highs = mydata.loc[mydata['treatment']=='high', 'height']\n",
    "\n",
    "#use the pandas describe function to get the basic descriptions\n",
    "lowsd = lows.describe()\n",
    "highsd = highs.describe()\n",
    "\n",
    "#get the means\n",
    "#low_mean = lows.mean()\n",
    "#high_mean = highs.mean()\n",
    "print('low treatment mean = {:.1f}'.format(lowsd['mean']))\n",
    "print('high treatment mean = {:.1f}'.format(highsd['mean']))"
   ]
  },
  {
   "cell_type": "markdown",
   "metadata": {},
   "source": [
    "Is one mean higher than the other? Does that mean that the groups are significantly different? Can you support or reject the hypothesis? What about the fact that the shortest plant in the HIGH treatment is shorter than the tallest plant in the LOW treatment? If they didn't overlap, would the means be different?\n",
    "\n",
    "To really judge the differences between groups, we need to look at the differences **within** groups.\n",
    "\n",
    "### Measures of variability around the center:  \n",
    "As you can see in the data, not all the plants in each treatment are the same.  There is a lot of variability among organsims. Some could be due to differences in replicates (maybe you buried one seed deeper than another, or one corner was colder than another), or due to natural variation (genetic differences). \n",
    "\n",
    "You can think about the variation **within** the treatment group as the variation or differences among all of the plants in either the low or high treatment. \n",
    "\n",
    "The simplest measure of variability is the **range**, which is the difference between the largest and smallest values. Use the data above to find the minimum and maximum of each treatment, and then the range of each. A larger range indicates a greater spread of the data, but is easily thrown off by a single value. What would happen if just one of your seeds, like low A, happened to get a late start because it was buried too deeply and was only 1 cm tall? What would the range be then? Is that a good measure of true variability?"
   ]
  },
  {
   "cell_type": "code",
   "execution_count": 49,
   "metadata": {},
   "outputs": [
    {
     "name": "stdout",
     "output_type": "stream",
     "text": [
      "low treatment range = 3.2 to 4.7\n",
      "high treatment range = 3.7 to 5.1\n"
     ]
    }
   ],
   "source": [
    "print('low treatment range = {} to {}'.format(lowsd['min'], lowsd['max']))\n",
    "print('high treatment range = {} to {}'.format(highsd['min'], highsd['max']))"
   ]
  },
  {
   "cell_type": "markdown",
   "metadata": {},
   "source": [
    "Look at the minimums and maximums of each treatment. Since the tallest single plant was in the **high** treatment, what does that tell you? Does that mean that the **high** treatment plants are all taller in your sample? Does that mean that if you worked with the **population** that the **high** treatment would be taller?  Really, it doesn't tell you too much.\n",
    "\n",
    "A measure of *variability* is trying to measure how spread out the data are, or how far each measurement is from the mean - the *deviation from the mean*. You can also calculate the mean deviation, the mean difference between each data point and the mean. That's the **standard deviation**. For each data point above, calculate the difference between that point and the mean. Now calculate the mean difference. What do you find?"
   ]
  },
  {
   "cell_type": "code",
   "execution_count": 67,
   "metadata": {},
   "outputs": [
    {
     "name": "stdout",
     "output_type": "stream",
     "text": [
      "low treatment deviations = [ 0.1125 -0.7875 -0.1875 -0.2875  0.6125 -0.0875 -0.0875  0.7125]\n",
      "mean of deviations = -0.00\n",
      "high treatment deviations = [-0.7  0.1  0.5  0.2 -0.9  0.   0.5  0.3]\n",
      "mean of deviations = 0.00\n"
     ]
    }
   ],
   "source": [
    "lowsdevs = lows - lowsd['mean']\n",
    "highsdevs = highs - highsd['mean']\n",
    "print('low treatment deviations = {}'.format(lowsdevs.values))\n",
    "print('mean of deviations = {0:.1f}'.format(lowsdevs.mean()))\n",
    "print('high treatment deviations = {}'.format(highsdevs.values))\n",
    "print('mean of deviations = {0:.1f}'.format(highsdevs.mean()))"
   ]
  },
  {
   "cell_type": "markdown",
   "metadata": {},
   "source": [
    "That's a good simple way to *think* of the standard deviation, but it doesn't quite work. Why not? Some of your differences are negative and some are positive, so they average out to zero. The actual equation for the **standard deviation** takes care of that problem:\n",
    "\n",
    "$$ s = \\sqrt{\\frac{\\sum{(x_i - \\bar{x})^2}}{N-1}} $$\n",
    "\n",
    "The top of the fraction is the sum of the squares of the differences, and the bottom is the sample size (minus 1). Taking a square root of the whole thing kind of takes care of squaring the differences. Calculate the standard deviation for each treatment level for our sample data."
   ]
  },
  {
   "cell_type": "code",
   "execution_count": 127,
   "metadata": {},
   "outputs": [
    {
     "name": "stdout",
     "output_type": "stream",
     "text": [
      "low treatment mean ± std = 4.0 ± 0.5\n",
      "high treatment mean ± std = 4.6 ± 0.5\n",
      "low: 3.5 to 4.5\n",
      "high: 4.1 to 5.1\n"
     ]
    }
   ],
   "source": [
    "print('low treatment mean ± std = {:.1f} ± {:.1f}'.format(lowsd['mean'], lowsd['std']))\n",
    "print('high treatment mean ± std = {:.1f} ± {:.1f}'.format(highsd['mean'], highsd['std']))\n",
    "print('low: {:.1f} to {:.1f}'.format(lowsd['mean']-lowsd['std'],lowsd['mean']+lowsd['std']))\n",
    "print('high: {:.1f} to {:.1f}'.format(highsd['mean']-highsd['std'],highsd['mean']+highsd['std']))"
   ]
  },
  {
   "cell_type": "markdown",
   "metadata": {},
   "source": [
    "How does this help us? In a data set with a large number of measurements (more than the 8 above) that are normally distributed (a bell curve), 68.3%  of the measurements are expected to fall within 1 standard deviation of the mean, and 95% should fall within 2 standard deviations of the mean. In the figure below, $\\sigma$ stands for standard deviation. Add up the percentages from $-2\\sigma$ to $2\\sigma$ and you get about 95%.\n",
    "\n",
    "![](Standard_deviation_diagram.png)\n",
    "\n",
    "Let's assume a couple of things:\n",
    "  + your sample mean is kind of close to the population mean if you had done the experiment on **all** of the plants\n",
    "  + your sample standard deviation is close to the actual population standard deviation\n",
    "\n",
    "If those things are true, you may assume that if you reran the test with hundreds or thousands of seeds, that 65% of the low intensity treatment plants would fall within one standard deviation of the mean you found, or 4.0 ± 0.5 cm. The ± tells you to both add and subtract, which leaves with 3.5 to 4.5 cm as your range. For the high treatment (4.6 ± 0.5), the range would be 4.1 to 5.1 cm.\n",
    "\n",
    "But your calculated sample mean is not necessarily close to the population mean - if you grew eight more plants under the same conditions, you might find a different sample mean. But if you grew 50 plants under those conditions, you can be confident that your sample mean is probably *closer* to the population mean. In other words, the difference between your mean and the population mean is related to the number of samples you collected - your sample gets closer to the population as your sample size increases. To estimate this we use the **standard error of the mean** (SE). Calculating it after the standard deviation is quite easy:\n",
    "\n",
    "$$ SE = \\frac{stdev}{\\sqrt{N}} $$\n",
    "\n",
    "That basically lets us estimate how far away our sample mean is from the population mean. \n",
    "\n",
    "Notice that *SE* increases if:\n",
    "  + our standard deviation is high (we have lots of variation)\n",
    "  + our sample size is small. \n",
    "  + in either case, those things indicate that our sample mean is likely very different from the actual population mean.\n",
    "  \n",
    "Now calculate the SE for each treatment level for our sample data."
   ]
  },
  {
   "cell_type": "code",
   "execution_count": 124,
   "metadata": {},
   "outputs": [
    {
     "name": "stdout",
     "output_type": "stream",
     "text": [
      "low treatement standard error = 0.2\n",
      "high treatement standard error = 0.2\n"
     ]
    }
   ],
   "source": [
    "lowSE = lowsd['std']/math.sqrt(lowsd['count'])\n",
    "highSE = highsd['std']/math.sqrt(highsd['count'])\n",
    "print('low treatement standard error = {:.1f}'.format(lowSE))\n",
    "print('high treatement standard error = {:.1f}'.format(highSE))"
   ]
  },
  {
   "cell_type": "markdown",
   "metadata": {},
   "source": [
    "That still doesn't really help us evaluate our hypothesis, though, it just tells us something about our data.  However, it does lead us to our last measurement of variability, which is the **95% confidence interval** ( $CI_{95\\%}$ or 95CI). This says that given our sample mean ($\\bar{x}$) and our sample's standard error (SE), the actual population mean ($\\mu$) has a 95% change of being contained within the range described by  $\\bar{x} \\pm CI_{95\\%}$, where $CI_{95\\%}$ is simply:\n",
    "\n",
    "$$ SE * 1.96 $$\n",
    " \n",
    "Notice that 1.96 is almost 2, and with standard deviations 95% of the samples were expected fall within ±2 standard deviations of our sample mean. That's where the 1.96 basically comes from."
   ]
  },
  {
   "cell_type": "markdown",
   "metadata": {},
   "source": [
    "But we still haven't figured out if our treatments led to different results! The range, standard deviation, standard errors, and confidence intervals are all measurements of variability **within** treatments (i.e. how big are the differences among all of the *low* treatment plants), but our prediction makes a statment about differences (or variability) **among** treatments (i.e. differences between low and high treatment plants). Make a simple plot of the data above. Do you plot each point or means? How about variation? Do the data overlap? Is that significant? Are the means different? Is that difference significant?"
   ]
  },
  {
   "cell_type": "code",
   "execution_count": 132,
   "metadata": {},
   "outputs": [
    {
     "data": {
      "image/png": "[encoded data removed]",
      "text/plain": [
       "<Figure size 432x288 with 1 Axes>"
      ]
     },
     "metadata": {},
     "output_type": "display_data"
    }
   ],
   "source": [
    "\n",
    "# Make the plot, 's' value is the 'scale' of the markers\n",
    "sns.set(style='whitegrid', context='talk', rc={\"axes.labelsize\":20}, palette = 'colorblind')\n",
    "\n",
    "fig=sns.stripplot(data = mydata, x = 'treatment', y = 'height', s=15);\n",
    "\n",
    "# Set things like axis labels\n",
    "fig.set(\n",
    "    ylim= [0,5.5]\n",
    "    )\n",
    "\n",
    "# Show the plot\n",
    "plt.show(fig)"
   ]
  },
  {
   "cell_type": "code",
   "execution_count": 136,
   "metadata": {},
   "outputs": [
    {
     "data": {
      "image/png": "[encoded data removed]",
      "text/plain": [
       "<Figure size 432x288 with 1 Axes>"
      ]
     },
     "metadata": {},
     "output_type": "display_data"
    }
   ],
   "source": [
    "# Make a plot with standard deviations\n",
    "fig=sns.barplot(data = mydata, x = 'treatment', y = 'height', ci = 'sd', capsize = 0.1);\n",
    "\n",
    "# Set things like axis labels\n",
    "fig.set(\n",
    "    ylim= [0,5.5]\n",
    "    )\n",
    "\n",
    "# Show the plot\n",
    "plt.show(fig)"
   ]
  },
  {
   "cell_type": "markdown",
   "metadata": {},
   "source": [
    "We need to see if the variation **among** groups (like the differences in means), is *larger* than the variation **within** each group (like the standard deviation, or the $CI_{95\\%}$. \n",
    "\n",
    "One of the easiest ways of testing significance is using the 95% confidence intervals. If they intervals overlap, that means that there is a chance that the actual population means are the same (or even reversed). If the do not overlap, then we can say that we are 95% confident that the actual population means are different, and that, statistically, is pretty good. However, note that we cannot say that we are absolutely certain that the two means are different, we can only say that it is unlikely that they are not different.\n",
    "\n",
    "Calculate the $CI_{95\\%}$ for each treatment. Now make a quick plot of the mean for each group with error bars showing the $CI_{95\\%}$. Can you support or reject the hypothesis? Why?"
   ]
  },
  {
   "cell_type": "code",
   "execution_count": 149,
   "metadata": {},
   "outputs": [
    {
     "name": "stdout",
     "output_type": "stream",
     "text": [
      "low treatment mean ± 95CI = 4.0 ± 0.3\n",
      "high treatment mean ± 95CI = 4.6 ± 0.4\n",
      "low treatment confidence limits are from 3.7 to 4.3\n",
      "high treatment confidence limits are from 4.2 to 5.0\n"
     ]
    },
    {
     "data": {
      "image/png": "[encoded data removed]",
      "text/plain": [
       "<Figure size 432x288 with 1 Axes>"
      ]
     },
     "metadata": {},
     "output_type": "display_data"
    }
   ],
   "source": [
    "lowmean = lowsd['mean']\n",
    "highmean = highsd['mean']\n",
    "lowCI = lowSE*1.96\n",
    "highCI = highSE*1.96\n",
    "print('low treatment mean ± 95CI = {:.1f} ± {:.1f}'.format(lowmean, lowCI))\n",
    "print('high treatment mean ± 95CI = {:.1f} ± {:.1f}'.format(highmean, highCI))\n",
    "print('low treatment confidence limits are from {:.1f} to {:.1f}'.format(lowmean-lowCI,lowmean+lowCI))\n",
    "print('high treatment confidence limits are from {:.1f} to {:.1f}'.format(highmean-highCI,highmean+highCI))\n",
    "# Make a plot with CI95\n",
    "fig=sns.barplot(data = mydata, x = 'treatment', y = 'height', ci = 95,capsize = 0.1);\n",
    "\n",
    "# Set things like axis labels\n",
    "fig.set(\n",
    "    ylim= [0,5.5]\n",
    "    )\n",
    "\n",
    "# Show the plot\n",
    "plt.show(fig)"
   ]
  },
  {
   "cell_type": "markdown",
   "metadata": {},
   "source": [
    "## Conclusions\n",
    "So, what do we have? \n",
    "+ We can say that we are 95% confident that if we were to sample all of the plants (of this species), the population mean for the low treatement would be between 3.7 and 4.3 cm.\n",
    "+ We can say that we are 95% confident that if we were to sample all of the plants (of this species), the population mean for the high treatement would be between 4.2 and 5.0 cm.\n",
    "\n",
    "95% is kind of a magic number in science. Actually its complement, 5%, is the magic number.\n",
    "\n",
    "At what point do we say that two populations would be different based on our samples? When we can say that **there is less than a 5% chance that our estimated population means are the same**. We often see that 5% value as a **p-value**, and say that if *p* is less than 5% (p < 0.05) our samples indicate that the populations under these treatements would be different.\n",
    "\n",
    "So, since we say that we are 95% confident that our low treatement mean could be up to 4.3 cm and that our high treatment mean could be down to 4.2, we are 95% confident that the low and high means could overlap. Or, we are **not** less than 5% confident that the means are the same. \n",
    "\n",
    "In other words, despite the fact that the bars look like they are different heights, because the 95% confidence intervals do overlap, we can **not** say that the bars are different, our data do not follow our prediction, and therefore we **reject our hypothesis**."
   ]
  }
 ],
 "metadata": {
  "kernelspec": {
   "display_name": "Python 3",
   "language": "python",
   "name": "python3"
  },
  "language_info": {
   "codemirror_mode": {
    "name": "ipython",
    "version": 3
   },
   "file_extension": ".py",
   "mimetype": "text/x-python",
   "name": "python",
   "nbconvert_exporter": "python",
   "pygments_lexer": "ipython3",
   "version": "3.6.5"
  }
 },
 "nbformat": 4,
 "nbformat_minor": 2
}
